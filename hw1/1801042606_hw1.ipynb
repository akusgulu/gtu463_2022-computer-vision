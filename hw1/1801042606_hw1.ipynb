{
 "cells": [
  {
   "cell_type": "code",
   "execution_count": 1,
   "id": "171144fd",
   "metadata": {},
   "outputs": [],
   "source": [
    "import cv2\n",
    "import numpy as np"
   ]
  },
  {
   "cell_type": "code",
   "execution_count": 2,
   "id": "438374a3",
   "metadata": {},
   "outputs": [],
   "source": [
    "prompt = [\"TL \", \"BL \", \"TR \", \"BR \"]\n",
    "points = []\n",
    "src_field = np.array([[4,3],[5,380],[697,2],[699,380]])\n",
    "count = 0"
   ]
  },
  {
   "cell_type": "code",
   "execution_count": 3,
   "id": "6af63c60",
   "metadata": {},
   "outputs": [],
   "source": [
    "# Click event to select corners and a wrapper to clean the code a bit\n",
    "def click_event(event, x, y, flags, params):\n",
    "    global points,prompt,count,img,img_cp\n",
    "    if event == cv2.EVENT_LBUTTONDOWN:\n",
    "        if count == 4:\n",
    "            print(points)\n",
    "            return\n",
    "        points.append([x,y])\n",
    "        count += 1\n",
    "        \n",
    "        font = cv2.FONT_HERSHEY_SIMPLEX\n",
    "        cv2.putText(img_cp,prompt[count-1] + str(x) + ',' +\n",
    "                    str(y), (x,y), font,\n",
    "                    1, (255, 0, 0), 2)\n",
    "        cv2.imshow('image', img_cp)\n",
    "    if event == cv2.EVENT_RBUTTONDOWN:\n",
    "        points.clear()\n",
    "        count = 0\n",
    "        img_cp = np.copy(img)\n",
    "        cv2.imshow('image',img_cp)\n",
    "\n",
    "def imshow_wrap(img):\n",
    "    cv2.imshow('image',img)\n",
    "    cv2.setMouseCallback('image',click_event)\n",
    "    cv2.waitKey(0)\n",
    "    cv2.destroyAllWindows()    \n",
    "    \n",
    "def findIntersection(x1,y1,x2,y2,x3,y3,x4,y4):\n",
    "    px= ( (x1*y2-y1*x2)*(x3-x4)-(x1-x2)*(x3*y4-y3*x4) ) / ( (x1-x2)*(y3-y4)-(y1-y2)*(x3-x4) ) \n",
    "    py= ( (x1*y2-y1*x2)*(y3-y4)-(y1-y2)*(x3*y4-y3*x4) ) / ( (x1-x2)*(y3-y4)-(y1-y2)*(x3-x4) )\n",
    "    return px,py"
   ]
  },
  {
   "cell_type": "code",
   "execution_count": 79,
   "id": "cb6953c4",
   "metadata": {},
   "outputs": [
    {
     "name": "stdout",
     "output_type": "stream",
     "text": [
      "[[451, 242], [209, 470], [1166, 387], [1108, 681]]\n",
      "[[308, 744], [750, 883], [718, 423], [1029, 472]]\n"
     ]
    }
   ],
   "source": [
    "# Run this cell only if you want to test with a different source for field image.\n",
    "# In case the corners are on borders, the selecting order is TL, BL, TR, BR (T: top, L: left..)\n",
    "img = cv2.imread('img3.jpeg',1)\n",
    "img_cp = np.copy(img)\n",
    "imshow_wrap(img_cp)\n",
    "# points[0][0],points[0][1] = findIntersection(points[0][0],points[0][1],points[1][0],points[1][1],points[2][0],points[2][1],points[3][0],points[3][1])\n",
    "print(points)\n",
    "src_field = np.array([[e[0], e[1]] for e in points])\n",
    "points = []\n",
    "count = 0"
   ]
  },
  {
   "cell_type": "code",
   "execution_count": 4,
   "id": "1159889a",
   "metadata": {},
   "outputs": [
    {
     "name": "stdout",
     "output_type": "stream",
     "text": [
      "[[534, 509], [490, 815], [1154, 515], [1219, 812]]\n"
     ]
    }
   ],
   "source": [
    "img = cv2.imread('img6.jpeg',1)\n",
    "img_cp = np.copy(img)\n",
    "imshow_wrap(img_cp)\n",
    "# points[0][0],points[0][1] = findIntersection(points[0][0],points[0][1],points[1][0],points[1][1],points[2][0],points[2][1],points[3][0],points[3][1])\n",
    "print(points)\n",
    "dst_field = np.array([[e[0], e[1]] for e in points])"
   ]
  },
  {
   "cell_type": "code",
   "execution_count": 5,
   "id": "56224e4c",
   "metadata": {},
   "outputs": [
    {
     "name": "stdout",
     "output_type": "stream",
     "text": [
      "[[ 1.46646341e+00  2.19229065e-01 -8.89257001e+02]\n",
      " [-2.13460077e-02  1.96603879e+00 -9.85248436e+02]\n",
      " [-7.42700555e-05  7.76373006e-04  1.00000000e+00]]\n"
     ]
    }
   ],
   "source": [
    "H,_ = cv2.findHomography(dst_field,src_field)\n",
    "print(H)\n",
    "height, width = img.shape[:2]\n",
    "out = cv2.warpPerspective(img,H,(width,height))\n",
    "cv2.imshow('transformed',out)\n",
    "# cv2.imwrite('transformed.jpg',out)\n",
    "cv2.waitKey(0)\n",
    "cv2.destroyAllWindows()"
   ]
  },
  {
   "cell_type": "code",
   "execution_count": 6,
   "id": "c248dab8",
   "metadata": {},
   "outputs": [
    {
     "name": "stdout",
     "output_type": "stream",
     "text": [
      "[-306, -744, -1, 0, 0, 0, 1224, 2976, 4]\n",
      "[0, 0, 0, -306, -744, -1, 918, 2232, 3]\n",
      "[-753, -881, -1, 0, 0, 0, 3765, 4405, 5]\n",
      "[0, 0, 0, -753, -881, -1, 286140, 334780, 380]\n",
      "[-723, -421, -1, 0, 0, 0, 503931, 293437, 697]\n",
      "[0, 0, 0, -723, -421, -1, 1446, 842, 2]\n",
      "[-1026, -470, -1, 0, 0, 0, 717174, 328530, 699]\n",
      "[0, 0, 0, -1026, -470, -1, 389880, 178600, 380]\n",
      "[0, 0, 0, 0, 0, 0, 0, 0, 1]\n",
      "\n",
      "H= [[ 2.42228935e+00 -7.79426426e+00  5.09056059e+03]\n",
      " [ 5.77342962e+00  7.49826603e+00 -7.32074300e+03]\n",
      " [ 4.95593322e-05  9.67334062e-03  1.00000000e+00]]\n"
     ]
    }
   ],
   "source": [
    "# This cell is only for calculating Ax = B problem.\n",
    "# It is independent from the rest of the program.\n",
    "def p_gen(x,y,xp,yp):\n",
    "    return [[-x,-y,-1,0,0,0,x*xp,y*xp,xp],[0,0,0,-x,-y,-1,x*yp,y*yp,yp]]\n",
    "\n",
    "a = p_gen(306,744,4,3)\n",
    "a += p_gen(753,881,5,380)\n",
    "a += p_gen(723,421,697,2)\n",
    "a += p_gen(1026,470,699,380)\n",
    "b = [0,0,0,0,0,0,0,0,1]\n",
    "a.append(b)\n",
    "print(*a,sep=\"\\n\")\n",
    "print(\"\\nH=\",np.linalg.solve(np.array(a),np.array(b)).reshape(3,3))"
   ]
  }
 ],
 "metadata": {
  "kernelspec": {
   "display_name": "Python 3 (ipykernel)",
   "language": "python",
   "name": "python3"
  },
  "language_info": {
   "codemirror_mode": {
    "name": "ipython",
    "version": 3
   },
   "file_extension": ".py",
   "mimetype": "text/x-python",
   "name": "python",
   "nbconvert_exporter": "python",
   "pygments_lexer": "ipython3",
   "version": "3.10.4"
  }
 },
 "nbformat": 4,
 "nbformat_minor": 5
}
